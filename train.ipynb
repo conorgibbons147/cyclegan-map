{
 "cells": [
  {
   "cell_type": "markdown",
   "id": "7659180e",
   "metadata": {},
   "source": [
    "test\n"
   ]
  }
 ],
 "metadata": {
  "language_info": {
   "name": "python"
  }
 },
 "nbformat": 4,
 "nbformat_minor": 5
}
